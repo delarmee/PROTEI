{
 "cells": [
  {
   "cell_type": "markdown",
   "id": "1c6ff851",
   "metadata": {},
   "source": [
    "**Задача 0. Подготовка**\n",
    "\n"
   ]
  },
  {
   "cell_type": "markdown",
   "id": "e245de84",
   "metadata": {},
   "source": [
    "Подготовить окружение для выполнения задания 1"
   ]
  },
  {
   "cell_type": "code",
   "execution_count": 11,
   "id": "2dff2df3",
   "metadata": {
    "scrolled": true
   },
   "outputs": [
    {
     "name": "stdout",
     "output_type": "stream",
     "text": [
      "1.24.3\n",
      "1.11.1\n",
      "1.3.0\n",
      "3.7.2\n"
     ]
    }
   ],
   "source": [
    "import numpy as np \n",
    "import scipy \n",
    "import sklearn \n",
    "import matplotlib\n",
    "print(np.__version__)\n",
    "print(scipy.__version__)\n",
    "print(sklearn.__version__)\n",
    "print( matplotlib.__version__)\n"
   ]
  }
 ],
 "metadata": {
  "kernelspec": {
   "display_name": "Python 3 (ipykernel)",
   "language": "python",
   "name": "python3"
  },
  "language_info": {
   "codemirror_mode": {
    "name": "ipython",
    "version": 3
   },
   "file_extension": ".py",
   "mimetype": "text/x-python",
   "name": "python",
   "nbconvert_exporter": "python",
   "pygments_lexer": "ipython3",
   "version": "3.11.5"
  }
 },
 "nbformat": 4,
 "nbformat_minor": 5
}
